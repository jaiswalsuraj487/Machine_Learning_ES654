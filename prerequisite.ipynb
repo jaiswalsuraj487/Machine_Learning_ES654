{
  "nbformat": 4,
  "nbformat_minor": 0,
  "metadata": {
    "colab": {
      "provenance": []
    },
    "kernelspec": {
      "name": "python3",
      "display_name": "Python 3"
    },
    "language_info": {
      "name": "python"
    }
  },
  "cells": [
    {
      "cell_type": "code",
      "execution_count": 8,
      "metadata": {
        "id": "AYI2cGaEQJt2"
      },
      "outputs": [],
      "source": [
        "import numpy as np\n",
        "import pandas as pd\n",
        "import matplotlib.pyplot as plt\n",
        "import random\n"
      ]
    },
    {
      "cell_type": "code",
      "source": [],
      "metadata": {
        "id": "JCnXX-ZKQOsv"
      },
      "execution_count": 45,
      "outputs": []
    },
    {
      "cell_type": "markdown",
      "source": [
        "### 1 How many multiplications and additions do you need to perform a matrix multiplication between a (n, k) and (k, m) matrix? Explain."
      ],
      "metadata": {
        "id": "l9y_ALlkQkHT"
      }
    },
    {
      "cell_type": "markdown",
      "source": [
        "Answer<br>\n",
        "\n",
        "$\n",
        "X = {\\begin{bmatrix}\n",
        "x1 & x2 & x3 \\\\\n",
        "x4 & x5 & x6 \\end{bmatrix}}_{2\\times 3}\n",
        "$\n",
        "\n",
        "$\n",
        "y = {\\begin{bmatrix}\n",
        "y1 & y2 \\\\\n",
        "y3 & y4 \\\\\n",
        "y5 & y6 \n",
        "\\end{bmatrix}}_{3\\times 2}\n",
        "$\n",
        "\n",
        "\n",
        "$\n",
        "P = {\\begin{bmatrix}\n",
        "x1 y1+x2y3+x3y5 & x1y2+2y4+x3y6\\\\\n",
        "x4y1+x5y3+x6y5 & x4y2+x5y4+x6y6\n",
        "\\end{bmatrix}}_{2\\times 2}\n",
        "$\n",
        "\n",
        "Number of multiplications = n * k * m = 2 x 3 x 2\n",
        "\n",
        "Number of additions = n * (k-1) * m = 2 x (3-1) x 2\n"
      ],
      "metadata": {
        "id": "dxGgUVcZq6J-"
      }
    },
    {
      "cell_type": "code",
      "source": [],
      "metadata": {
        "id": "el7CBwTSQOu3"
      },
      "execution_count": 15,
      "outputs": []
    },
    {
      "cell_type": "markdown",
      "source": [],
      "metadata": {
        "id": "DgO1Hq5ptNsS"
      }
    },
    {
      "cell_type": "code",
      "source": [],
      "metadata": {
        "id": "Du5se41TQOyW"
      },
      "execution_count": 46,
      "outputs": []
    },
    {
      "cell_type": "markdown",
      "source": [
        "## 2 Write Python code to multiply the above two matrices. Solve using list of lists and then use numpy. Compare the timing of both solutions. Which one is faster? Why?"
      ],
      "metadata": {
        "id": "w9QMXHXCQtWT"
      }
    },
    {
      "cell_type": "code",
      "source": [
        "import time\n",
        "# 3x4\n",
        "A = [[1,2,3,2], \n",
        "     [4,5,6,1],\n",
        "     [4,2,1,7]]\n",
        "\n",
        "# 4x5\n",
        "B = [[6,2,3,2,2],\n",
        "     [8,1,2,5,3],\n",
        "     [9,2,0,7,5],\n",
        "     [0,2,5,9,1]]\n",
        "\n",
        "# 3x5 \n",
        "\n",
        "def mul(A,B):\n",
        "  res = [[0 for i in range(5)] for j in range(3)]\n",
        "  for i in range(len(A)):\n",
        "      for j in range(len(B)):\n",
        "          for k in range(len(B[0])):\n",
        "              res[i][k] += A[i][j] * B[j][k]\n",
        "  return res\n",
        "\n",
        "%timeit res = mul(A,B)\n"
      ],
      "metadata": {
        "colab": {
          "base_uri": "https://localhost:8080/"
        },
        "id": "uWDOVoVuQO0k",
        "outputId": "00de323c-a790-430f-ed6c-e528cc7fb935"
      },
      "execution_count": 47,
      "outputs": [
        {
          "output_type": "stream",
          "name": "stdout",
          "text": [
            "20.3 µs ± 125 ns per loop (mean ± std. dev. of 7 runs, 100000 loops each)\n"
          ]
        }
      ]
    },
    {
      "cell_type": "code",
      "source": [
        "A = np.array( [[1,2,3,2], \n",
        "     [4,5,6,1],\n",
        "     [4,2,1,7]])\n",
        "B = np.array([[6,2,3,2,2],\n",
        "     [8,1,2,5,3],\n",
        "     [9,2,0,7,5],\n",
        "     [0,2,5,9,1]])\n",
        "\n",
        "%timeit result = np.matmul(A,B)"
      ],
      "metadata": {
        "colab": {
          "base_uri": "https://localhost:8080/"
        },
        "id": "KaF1WTyFQ_MC",
        "outputId": "8d9df9ce-8653-4b4c-b6c5-1d8102e3e1dd"
      },
      "execution_count": 48,
      "outputs": [
        {
          "output_type": "stream",
          "name": "stdout",
          "text": [
            "1.29 µs ± 6.81 ns per loop (mean ± std. dev. of 7 runs, 1000000 loops each)\n"
          ]
        }
      ]
    },
    {
      "cell_type": "code",
      "source": [],
      "metadata": {
        "id": "Q-DCHZiqRARo"
      },
      "execution_count": 48,
      "outputs": []
    },
    {
      "cell_type": "markdown",
      "source": [
        "## 3 Finding the highest element in a list requires one pass of the array. Finding the second highest element requires 2 passes of the the array. Using this method, what is the time complexity of finding the median of the array? Can you suggest a better method? Can you implement both these methods in Python and compare against numpy.median routine in terms of time?"
      ],
      "metadata": {
        "id": "ekkPkexGRNE2"
      }
    },
    {
      "cell_type": "code",
      "source": [],
      "metadata": {
        "id": "7iDrs94jRATd"
      },
      "execution_count": 48,
      "outputs": []
    },
    {
      "cell_type": "markdown",
      "source": [
        "If the given array is odd the median will be midddle element and if given array is even than median will be average of middle two elements in sorted array.\n",
        "Here, the given array is not sorted.\n",
        "\n",
        "<br>\n",
        "As per the mentioned method i.e. finding hightest element in first pass and second highest element in second pass and so on to find median. This will take O(n/2 * n) which will be O(n^2).\n",
        "<br><br>\n",
        "Better approach is to sort the array first and return middle element(if array size odd) else return average of middle two element(if array size is even).\n",
        "This will take O(n log(n)) time.\n"
      ],
      "metadata": {
        "id": "u5MMBxGNldFL"
      }
    },
    {
      "cell_type": "code",
      "source": [
        "# Given approach\n",
        "arr = [7,3,4, 9,5,2, 0,1, 2,4,1, 2,8,7]\n",
        "def findmedain(arr):\n",
        "  for i in range(len(arr)//2+ 1):\n",
        "    for j in range(0, len(arr)-i-1):\n",
        "      if arr[j] < a[j+1]:\n",
        "        arr[j],arr[j+1] = arr[j+1], arr[j]\n",
        "  \n",
        "\n",
        "  if len(arr)%2==0:\n",
        "    return arr[ ((int) ((len(arr)+1)/2))-1 ]\n",
        "  else:\n",
        "    return arr[(int)(len(arr)/2)] + arr[ ((int) ((len(arr)+1)/2))-1 ]\n",
        "\n",
        "%timeit findmedian(arr)\n",
        "print(findmedian(arr))"
      ],
      "metadata": {
        "colab": {
          "base_uri": "https://localhost:8080/"
        },
        "id": "XxKLE_kiqa5B",
        "outputId": "c5e5f3bc-3c6c-4744-9111-558103600ced"
      },
      "execution_count": 20,
      "outputs": [
        {
          "output_type": "stream",
          "name": "stdout",
          "text": [
            "621 ns ± 8.63 ns per loop (mean ± std. dev. of 7 runs, 1000000 loops each)\n",
            "3.5\n"
          ]
        }
      ]
    },
    {
      "cell_type": "code",
      "source": [
        "# better approach by sorting array first\n",
        "arr = [7,3,4, 9,5,2, 0,1, 2,4,1, 2,8,7]\n",
        "def findmedian(arr):\n",
        "  arr.sort()\n",
        "\n",
        "  if len(arr)%2==0:\n",
        "    median = (arr[len(arr)//2 -1] + arr[len(arr)//2] )/2\n",
        "  else:\n",
        "    median = arr[len(arr)//2]\n",
        "  return median\n",
        "%timeit median = findmedian(arr)\n",
        "print(median)"
      ],
      "metadata": {
        "colab": {
          "base_uri": "https://localhost:8080/"
        },
        "id": "1R1qpCyrnRzi",
        "outputId": "5bae4d44-dbbe-4d7b-a3a1-f7f8750747c6"
      },
      "execution_count": 14,
      "outputs": [
        {
          "output_type": "stream",
          "name": "stdout",
          "text": [
            "639 ns ± 33.4 ns per loop (mean ± std. dev. of 7 runs, 1000000 loops each)\n",
            "3.5\n"
          ]
        }
      ]
    },
    {
      "cell_type": "code",
      "source": [
        "# using numpy\n",
        "arr = np.array( [7,3,4, 9,5,2, 0,1, 2,4,1, 2,8,7])\n",
        "%timeit median = np.median(arr)\n",
        "print(median)"
      ],
      "metadata": {
        "colab": {
          "base_uri": "https://localhost:8080/"
        },
        "id": "7U34bGZNpWFQ",
        "outputId": "18814010-8686-4314-a94b-84daaa7d091d"
      },
      "execution_count": 15,
      "outputs": [
        {
          "output_type": "stream",
          "name": "stdout",
          "text": [
            "21.8 µs ± 639 ns per loop (mean ± std. dev. of 7 runs, 10000 loops each)\n",
            "3.5\n"
          ]
        }
      ]
    },
    {
      "cell_type": "code",
      "source": [],
      "metadata": {
        "id": "JPhE7FUYpWT_"
      },
      "execution_count": null,
      "outputs": []
    },
    {
      "cell_type": "markdown",
      "source": [
        "# 4 What is the gradient of the following function with respect to x and y?\n",
        "#    x^2 * y + y^3 * sin(x)\n"
      ],
      "metadata": {
        "id": "X92fF75TSYg4"
      }
    },
    {
      "cell_type": "markdown",
      "source": [
        "\n",
        "gradient wrt x:\n",
        "2xy + x^2 (dy/dx) + y^3 * cos(x) + 3 *  y ^ 2 * (dy/dx) *sin(x)\n",
        "<br>= 2xy +y^3 cos(x) \n",
        "<br>\n",
        "gradient wrt y:<br>\n",
        "2x dx/dy * y + x^2 + 3 y^2 * sin(x) + y^3 * cox(x) dx/dy\n",
        "<br>=x^2 + 3y^2 sin(x) \n"
      ],
      "metadata": {
        "id": "FVFB0UVN00gh"
      }
    },
    {
      "cell_type": "code",
      "source": [],
      "metadata": {
        "id": "sVLiAGa1SXNR"
      },
      "execution_count": 49,
      "outputs": []
    },
    {
      "cell_type": "markdown",
      "source": [
        "## 5 Use JAX to confirm the gradient evaluated by your method matches the analytical solution corresponding to a few random values of x and y"
      ],
      "metadata": {
        "id": "HnE3sJkrS6gi"
      }
    },
    {
      "cell_type": "code",
      "source": [
        "import jax.numpy as jnp\n",
        "import jax\n",
        "import math\n",
        "def fun(x,y):\n",
        "  return (x**2) * y + (y**3) * jnp.sin(x)\n",
        "\n",
        "x = jnp.array([1.0,2.0,3.0,2.9], float)\n",
        "y = jnp.array([1.0,2.0,3.0,2.5], float)\n",
        "\n",
        "print('gradient with respect to x')\n",
        "for a,b in zip(x,y):\n",
        "  r = jax.grad(fun, argnums=0)(a,b)\n",
        "  print(r)\n",
        "print('-----')\n",
        "print('gradient with respect to x')\n",
        "for a,b in zip(x,y):\n",
        "  r = jax.grad(fun, argnums=1)(a,b)\n",
        "  print(r)\n",
        "\n"
      ],
      "metadata": {
        "colab": {
          "base_uri": "https://localhost:8080/"
        },
        "id": "Qo5in1r7S5C9",
        "outputId": "f042ab43-f7e2-4661-e79a-69294de6cf0b"
      },
      "execution_count": 136,
      "outputs": [
        {
          "output_type": "stream",
          "name": "stdout",
          "text": [
            "gradient with respect to x\n",
            "2.5403023\n",
            "4.670825\n",
            "-8.729797\n",
            "-0.67122173\n",
            "-----\n",
            "gradient with respect to x\n",
            "3.5244129\n",
            "14.911569\n",
            "12.81024\n",
            "12.895924\n"
          ]
        }
      ]
    },
    {
      "cell_type": "code",
      "source": [],
      "metadata": {
        "id": "Tdz7WT4jXbOR"
      },
      "execution_count": 50,
      "outputs": []
    },
    {
      "cell_type": "markdown",
      "source": [
        "## 6 Use sympy to confirm that you obtain the same gradient analytically."
      ],
      "metadata": {
        "id": "_Ck40AjsTFTI"
      }
    },
    {
      "cell_type": "code",
      "source": [
        "from sympy import *\n",
        "x , y = symbols('x,y')\n",
        "\n",
        "diff_x = diff (  (x**2) * y + (y**3) * sin(x)  , x)\n",
        "\n",
        "diff_y = diff (  (x**2) * y + (y**3) * sin(x)  , y)\n"
      ],
      "metadata": {
        "id": "A9htm1lmS5NC"
      },
      "execution_count": 51,
      "outputs": []
    },
    {
      "cell_type": "code",
      "source": [
        "diff_x"
      ],
      "metadata": {
        "colab": {
          "base_uri": "https://localhost:8080/",
          "height": 38
        },
        "id": "ZvLMjhO2cmau",
        "outputId": "3b109634-875f-4d0f-8bed-9bb8096cdc8f"
      },
      "execution_count": 52,
      "outputs": [
        {
          "output_type": "execute_result",
          "data": {
            "text/plain": [
              "2*x*y + y**3*cos(x)"
            ],
            "text/latex": "$\\displaystyle 2 x y + y^{3} \\cos{\\left(x \\right)}$"
          },
          "metadata": {},
          "execution_count": 52
        }
      ]
    },
    {
      "cell_type": "code",
      "source": [
        "diff_y"
      ],
      "metadata": {
        "colab": {
          "base_uri": "https://localhost:8080/",
          "height": 38
        },
        "id": "xeJbHFJYcnCC",
        "outputId": "d0afd5eb-e4fb-4184-93de-65802a877466"
      },
      "execution_count": 53,
      "outputs": [
        {
          "output_type": "execute_result",
          "data": {
            "text/plain": [
              "x**2 + 3*y**2*sin(x)"
            ],
            "text/latex": "$\\displaystyle x^{2} + 3 y^{2} \\sin{\\left(x \\right)}$"
          },
          "metadata": {},
          "execution_count": 53
        }
      ]
    },
    {
      "cell_type": "code",
      "source": [
        "x = jnp.array([1.0,2.0,3.0,2.9], float)\n",
        "y = jnp.array([1.0,2.0,3.0,2.5], float)\n",
        "\n",
        "print('gradient with respect to x')\n",
        "for a,b in zip(x,y):\n",
        "  r = 2*a*b + b**3 * math.cos(a)\n",
        "  print(r)\n",
        "print('----')\n",
        "print('gradient with respect to y')\n",
        "for a,b in zip(x,y):\n",
        "  r = a**2 + 3 * b**2 * math.sin(a)\n",
        "  print(r)\n"
      ],
      "metadata": {
        "colab": {
          "base_uri": "https://localhost:8080/"
        },
        "id": "H1tCxin-bHCj",
        "outputId": "9a052300-4525-4b09-de1b-fa7752a94330"
      },
      "execution_count": 137,
      "outputs": [
        {
          "output_type": "stream",
          "name": "stdout",
          "text": [
            "gradient with respect to x\n",
            "2.5403023\n",
            "4.670825\n",
            "-8.729797\n",
            "-0.67122173\n",
            "----\n",
            "gradient with respect to y\n",
            "3.5244129\n",
            "14.911569\n",
            "12.81024\n",
            "12.895924\n"
          ]
        }
      ]
    },
    {
      "cell_type": "code",
      "source": [],
      "metadata": {
        "id": "-9g7H5d2TLs0"
      },
      "execution_count": 54,
      "outputs": []
    },
    {
      "cell_type": "code",
      "source": [],
      "metadata": {
        "id": "brcrsd2fai3F"
      },
      "execution_count": 54,
      "outputs": []
    },
    {
      "cell_type": "code",
      "source": [],
      "metadata": {
        "id": "nM8zFaHFV8kr"
      },
      "execution_count": 54,
      "outputs": []
    },
    {
      "cell_type": "markdown",
      "source": [
        "### 7 Create a Python nested dictionary to represent hierarchical information. We want to store record of students and their marks"
      ],
      "metadata": {
        "id": "h7zVEhI8WOQ2"
      }
    },
    {
      "cell_type": "code",
      "source": [
        "dic = { \n",
        "          '2022':{'1 Branch': {1: {'roll number':1, 'Name':'A', 'Marks':{'Maths':random.randint(70,100), 'English': random.randint(70,100)} },\n",
        "                               2: {'roll number':2, 'Name':'B', 'Marks':{'Maths':random.randint(70,100), 'English': random.randint(70,100)}},\n",
        "                              },\n",
        "                  '2 Branch': {1: {'roll number':1, 'Name':'A', 'Marks':{'Maths':random.randint(70,100), 'English': random.randint(70,100)} },\n",
        "                               2: {'roll number':2, 'Name':'B', 'Marks':{'Maths':100, 'English': 70}}\n",
        "                               } \n",
        "                  },\n",
        "          '2023':{'1 Branch': {1: {'roll number':1, 'Name':'A', 'Marks':{'Maths':random.randint(70,100), 'English': random.randint(70,100)} },\n",
        "                               2: {'roll number':2, 'Name':'B', 'Marks':{'Maths':random.randint(70,100), 'English': random.randint(70,100)}},\n",
        "                              },\n",
        "                  '2 Branch': {1: {'roll number':1, 'Name':'A', 'Marks':{'Maths':random.randint(70,100), 'English': random.randint(70,100)} },\n",
        "                               2: {'roll number':2, 'Name':'B', 'Marks':{'Maths':random.randint(70,100), 'English': random.randint(70,100)}}\n",
        "                               } \n",
        "                  },\n",
        "          '2024':{'1 Branch': {1: {'roll number':1, 'Name':'A', 'Marks':{'Maths':random.randint(70,100), 'English': random.randint(70,100)} },\n",
        "                               2: {'roll number':2, 'Name':'B', 'Marks':{'Maths':random.randint(70,100), 'English': random.randint(70,100)}},\n",
        "                              },\n",
        "                  '2 Branch': {1: {'roll number':1, 'Name':'A', 'Marks':{'Maths':random.randint(70,100), 'English': random.randint(70,100)} },\n",
        "                               2: {'roll number':2, 'Name':'B', 'Marks':{'Maths':random.randint(70,100), 'English': random.randint(70,100)}}\n",
        "                               } \n",
        "                  },\n",
        "          '2025':{'1 Branch': {1: {'roll number':1, 'Name':'A', 'Marks':{'Maths':random.randint(70,100), 'English': random.randint(70,100)} },\n",
        "                               2: {'roll number':2, 'Name':'B', 'Marks':{'Maths':random.randint(70,100), 'English': random.randint(70,100)}},\n",
        "                              },\n",
        "                  '2 Branch': {1: {'roll number':1, 'Name':'A', 'Marks':{'Maths':random.randint(70,100), 'English': random.randint(70,100)} },\n",
        "                               2: {'roll number':2, 'Name':'B', 'Marks':{'Maths':random.randint(70,100), 'English': random.randint(70,100)}}\n",
        "                               } \n",
        "                  }\n",
        "       }"
      ],
      "metadata": {
        "id": "JZQgDS9EV8m1"
      },
      "execution_count": 100,
      "outputs": []
    },
    {
      "cell_type": "code",
      "source": [
        "for i in dic.keys():\n",
        "  print(i)\n",
        "  for j in dic[i].keys():\n",
        "    print('  ',j)\n",
        "    for k in dic[i][j].keys():\n",
        "      # print(k)\n",
        "      print('     ',dic[i][j][k])"
      ],
      "metadata": {
        "colab": {
          "base_uri": "https://localhost:8080/"
        },
        "id": "gaAr-FM_X0Zv",
        "outputId": "8d3a36e6-9cf0-4102-b496-c94a6e1bdd78"
      },
      "execution_count": 101,
      "outputs": [
        {
          "output_type": "stream",
          "name": "stdout",
          "text": [
            "2022\n",
            "   1 Branch\n",
            "      {'roll number': 1, 'Name': 'A', 'Marks': {'Maths': 88, 'English': 89}}\n",
            "      {'roll number': 2, 'Name': 'B', 'Marks': {'Maths': 73, 'English': 86}}\n",
            "   2 Branch\n",
            "      {'roll number': 1, 'Name': 'A', 'Marks': {'Maths': 84, 'English': 98}}\n",
            "      {'roll number': 2, 'Name': 'B', 'Marks': {'Maths': 100, 'English': 70}}\n",
            "2023\n",
            "   1 Branch\n",
            "      {'roll number': 1, 'Name': 'A', 'Marks': {'Maths': 98, 'English': 87}}\n",
            "      {'roll number': 2, 'Name': 'B', 'Marks': {'Maths': 88, 'English': 77}}\n",
            "   2 Branch\n",
            "      {'roll number': 1, 'Name': 'A', 'Marks': {'Maths': 90, 'English': 91}}\n",
            "      {'roll number': 2, 'Name': 'B', 'Marks': {'Maths': 97, 'English': 96}}\n",
            "2024\n",
            "   1 Branch\n",
            "      {'roll number': 1, 'Name': 'A', 'Marks': {'Maths': 86, 'English': 73}}\n",
            "      {'roll number': 2, 'Name': 'B', 'Marks': {'Maths': 83, 'English': 77}}\n",
            "   2 Branch\n",
            "      {'roll number': 1, 'Name': 'A', 'Marks': {'Maths': 81, 'English': 79}}\n",
            "      {'roll number': 2, 'Name': 'B', 'Marks': {'Maths': 92, 'English': 82}}\n",
            "2025\n",
            "   1 Branch\n",
            "      {'roll number': 1, 'Name': 'A', 'Marks': {'Maths': 88, 'English': 83}}\n",
            "      {'roll number': 2, 'Name': 'B', 'Marks': {'Maths': 100, 'English': 91}}\n",
            "   2 Branch\n",
            "      {'roll number': 1, 'Name': 'A', 'Marks': {'Maths': 77, 'English': 74}}\n",
            "      {'roll number': 2, 'Name': 'B', 'Marks': {'Maths': 91, 'English': 87}}\n"
          ]
        }
      ]
    },
    {
      "cell_type": "code",
      "source": [],
      "metadata": {
        "id": "eq8XJyBGX0cO"
      },
      "execution_count": 56,
      "outputs": []
    },
    {
      "cell_type": "markdown",
      "source": [
        "### 8) Store the same information using Python classes. We have an overall database which is a list of year objects. Each year contains a list of branches. Each branch contains a list of students. Each student has some properties like name, roll number and has marks in some subjects."
      ],
      "metadata": {
        "id": "OzjjRnJFX00D"
      }
    },
    {
      "cell_type": "code",
      "source": [
        "class Student:\n",
        "  def __init__(self, RollNumber, Name):\n",
        "    self.RollNumber = RollNumber\n",
        "    self.Name = Name\n",
        "    self.Marks = {'Maths':random.uniform(5,10), 'Science': random.uniform(5,10)}"
      ],
      "metadata": {
        "id": "GiEg2TQtV9FM"
      },
      "execution_count": 57,
      "outputs": []
    },
    {
      "cell_type": "code",
      "source": [],
      "metadata": {
        "id": "uj05qforu8ZF"
      },
      "execution_count": 57,
      "outputs": []
    },
    {
      "cell_type": "code",
      "source": [
        "class Branch:\n",
        "  def __init__(self, branchName):\n",
        "    self.branchName = branchName\n",
        "    self.Students_list = []\n",
        "  \n",
        "  def add_student(self, student):\n",
        "    self.Students_list.append(student)"
      ],
      "metadata": {
        "id": "UeSolXz0p0uK"
      },
      "execution_count": 58,
      "outputs": []
    },
    {
      "cell_type": "code",
      "source": [
        "class Year:\n",
        "  def __init__(self, year_num):\n",
        "    self.year_num = year_num\n",
        "    self.branch_list = list()\n",
        "  \n",
        "  def add_branch(self, branch):\n",
        "    self.branch_list.append(branch)"
      ],
      "metadata": {
        "id": "B4nFriHRp21o"
      },
      "execution_count": 59,
      "outputs": []
    },
    {
      "cell_type": "code",
      "source": [],
      "metadata": {
        "id": "FJNTFpSQp03f"
      },
      "execution_count": 59,
      "outputs": []
    },
    {
      "cell_type": "code",
      "source": [
        "result = []\n",
        "for y in range(2019,2022):\n",
        "  year = Year(y)\n",
        "  for b in range(1,4):\n",
        "    branch = Branch(str(b) )\n",
        "    for r in range(1,4):\n",
        "      student = Student(r, chr(64 + r))\n",
        "      branch.add_student(student)\n",
        "    year.add_branch(branch)\n",
        "  result.append(year)\n",
        "  "
      ],
      "metadata": {
        "id": "eFa0TETJX6L3"
      },
      "execution_count": 60,
      "outputs": []
    },
    {
      "cell_type": "code",
      "source": [
        "for y in result:\n",
        "  print('Year ',y.year_num,'--------------')\n",
        "  for b in y.branch_list:\n",
        "    print('   Branch ',b.branchName)\n",
        "    for s in b.Students_list:\n",
        "      print('      Roll: ',s.RollNumber,' Name:-- ', s.Name,' Marks:--', s.Marks)"
      ],
      "metadata": {
        "colab": {
          "base_uri": "https://localhost:8080/"
        },
        "id": "x_U_-QANlSOa",
        "outputId": "28ae6bd8-3dab-496d-937a-cb3f1e9717d9"
      },
      "execution_count": 61,
      "outputs": [
        {
          "output_type": "stream",
          "name": "stdout",
          "text": [
            "Year  2019 --------------\n",
            "   Branch  1\n",
            "      Roll:  1  Name:--  A  Marks:-- {'Maths': 5.475310971274419, 'Science': 5.582711068882525}\n",
            "      Roll:  2  Name:--  B  Marks:-- {'Maths': 7.311261130480521, 'Science': 9.362250692247441}\n",
            "      Roll:  3  Name:--  C  Marks:-- {'Maths': 7.3054667513381455, 'Science': 8.05741130117941}\n",
            "   Branch  2\n",
            "      Roll:  1  Name:--  A  Marks:-- {'Maths': 8.35059650585491, 'Science': 8.145393403061941}\n",
            "      Roll:  2  Name:--  B  Marks:-- {'Maths': 8.762127739804452, 'Science': 8.905848183247441}\n",
            "      Roll:  3  Name:--  C  Marks:-- {'Maths': 8.316640162910675, 'Science': 9.569243467444675}\n",
            "   Branch  3\n",
            "      Roll:  1  Name:--  A  Marks:-- {'Maths': 8.142804905450754, 'Science': 6.1237036967019405}\n",
            "      Roll:  2  Name:--  B  Marks:-- {'Maths': 6.238862439372097, 'Science': 9.26242054007455}\n",
            "      Roll:  3  Name:--  C  Marks:-- {'Maths': 6.021495851155264, 'Science': 5.079817050386336}\n",
            "Year  2020 --------------\n",
            "   Branch  1\n",
            "      Roll:  1  Name:--  A  Marks:-- {'Maths': 9.23459744269741, 'Science': 5.835575586231305}\n",
            "      Roll:  2  Name:--  B  Marks:-- {'Maths': 6.70960501628857, 'Science': 9.065864469943568}\n",
            "      Roll:  3  Name:--  C  Marks:-- {'Maths': 8.034056878520943, 'Science': 7.534075100192421}\n",
            "   Branch  2\n",
            "      Roll:  1  Name:--  A  Marks:-- {'Maths': 7.862450570057012, 'Science': 6.842811478727981}\n",
            "      Roll:  2  Name:--  B  Marks:-- {'Maths': 6.465235392677302, 'Science': 5.843088949200606}\n",
            "      Roll:  3  Name:--  C  Marks:-- {'Maths': 9.652899063945116, 'Science': 9.806855999969514}\n",
            "   Branch  3\n",
            "      Roll:  1  Name:--  A  Marks:-- {'Maths': 5.949229744090439, 'Science': 7.295420252103144}\n",
            "      Roll:  2  Name:--  B  Marks:-- {'Maths': 6.324970294476843, 'Science': 9.331436315106263}\n",
            "      Roll:  3  Name:--  C  Marks:-- {'Maths': 6.746000689071305, 'Science': 8.74352018050143}\n",
            "Year  2021 --------------\n",
            "   Branch  1\n",
            "      Roll:  1  Name:--  A  Marks:-- {'Maths': 9.670994284475764, 'Science': 6.09096857799453}\n",
            "      Roll:  2  Name:--  B  Marks:-- {'Maths': 6.078709890308772, 'Science': 9.281021804854152}\n",
            "      Roll:  3  Name:--  C  Marks:-- {'Maths': 6.288479653950093, 'Science': 8.2055528152084}\n",
            "   Branch  2\n",
            "      Roll:  1  Name:--  A  Marks:-- {'Maths': 9.766806410110485, 'Science': 7.153934395289122}\n",
            "      Roll:  2  Name:--  B  Marks:-- {'Maths': 5.542932879398697, 'Science': 7.721958633551086}\n",
            "      Roll:  3  Name:--  C  Marks:-- {'Maths': 8.6072322202643, 'Science': 5.773699222273843}\n",
            "   Branch  3\n",
            "      Roll:  1  Name:--  A  Marks:-- {'Maths': 9.57857834403481, 'Science': 7.039159028009852}\n",
            "      Roll:  2  Name:--  B  Marks:-- {'Maths': 8.429951602156008, 'Science': 9.160590589147223}\n",
            "      Roll:  3  Name:--  C  Marks:-- {'Maths': 8.171236027309831, 'Science': 7.913452986737152}\n"
          ]
        }
      ]
    },
    {
      "cell_type": "code",
      "source": [],
      "metadata": {
        "id": "weK0lmJzlSQ6"
      },
      "execution_count": 61,
      "outputs": []
    },
    {
      "cell_type": "code",
      "source": [],
      "metadata": {
        "id": "stFwdyOjX6Ot"
      },
      "execution_count": 61,
      "outputs": []
    },
    {
      "cell_type": "markdown",
      "source": [
        "## 9 Using matplotlib plot the following functions on the domain: x = 0.5 to 100.0 in steps of 0.5.\n"
      ],
      "metadata": {
        "id": "CFIPP6aaUoxP"
      }
    },
    {
      "cell_type": "code",
      "source": [
        "# 1) y=x\n",
        "x = np.arange(0.5, 100, 0.5)\n",
        "def f(x):\n",
        "  return x\n",
        "plt.plot(x,f(x))\n"
      ],
      "metadata": {
        "colab": {
          "base_uri": "https://localhost:8080/",
          "height": 282
        },
        "id": "Cd1lTvUwTLvU",
        "outputId": "0f996795-49ed-4f84-dfc2-1d9be5773b19"
      },
      "execution_count": 62,
      "outputs": [
        {
          "output_type": "execute_result",
          "data": {
            "text/plain": [
              "[<matplotlib.lines.Line2D at 0x7f39b2dc39a0>]"
            ]
          },
          "metadata": {},
          "execution_count": 62
        },
        {
          "output_type": "display_data",
          "data": {
            "text/plain": [
              "<Figure size 432x288 with 1 Axes>"
            ],
            "image/png": "[encoded data removed]"
          },
          "metadata": {
            "needs_background": "light"
          }
        }
      ]
    },
    {
      "cell_type": "code",
      "source": [
        "# 2) y = x^2\n",
        "x = np.arange(0.5, 100, 0.5)\n",
        "def f(x):\n",
        "  return x**2\n",
        "plt.plot(x,f(x))\n"
      ],
      "metadata": {
        "colab": {
          "base_uri": "https://localhost:8080/",
          "height": 282
        },
        "id": "37xxuOjGUsY8",
        "outputId": "0c664e51-2604-4e80-9c27-062c329ee5c2"
      },
      "execution_count": 63,
      "outputs": [
        {
          "output_type": "execute_result",
          "data": {
            "text/plain": [
              "[<matplotlib.lines.Line2D at 0x7f39b2906400>]"
            ]
          },
          "metadata": {},
          "execution_count": 63
        },
        {
          "output_type": "display_data",
          "data": {
            "text/plain": [
              "<Figure size 432x288 with 1 Axes>"
            ],
            "image/png": "[encoded data removed]"
          },
          "metadata": {
            "needs_background": "light"
          }
        }
      ]
    },
    {
      "cell_type": "code",
      "source": [
        "# 3) y=x^3/100\n",
        "x = np.arange(0.5, 100, 0.5)\n",
        "def f(x):\n",
        "  return (x**3)/100\n",
        "plt.plot(x,f(x))\n"
      ],
      "metadata": {
        "colab": {
          "base_uri": "https://localhost:8080/",
          "height": 282
        },
        "id": "wQtXe1ADTTpM",
        "outputId": "86788c1f-4dfd-4233-ebf0-ae505d8adb73"
      },
      "execution_count": 64,
      "outputs": [
        {
          "output_type": "execute_result",
          "data": {
            "text/plain": [
              "[<matplotlib.lines.Line2D at 0x7f39b285d8b0>]"
            ]
          },
          "metadata": {},
          "execution_count": 64
        },
        {
          "output_type": "display_data",
          "data": {
            "text/plain": [
              "<Figure size 432x288 with 1 Axes>"
            ],
            "image/png": "[encoded data removed]"
          },
          "metadata": {
            "needs_background": "light"
          }
        }
      ]
    },
    {
      "cell_type": "code",
      "source": [
        "# 4) y=sin(x)\n",
        "x = np.arange(0.5, 100, 0.5)\n",
        "def f(x):\n",
        "  x = x* np.pi / 180\n",
        "  return jnp.sin(x)\n",
        "plt.plot(x,f(x))\n"
      ],
      "metadata": {
        "colab": {
          "base_uri": "https://localhost:8080/",
          "height": 282
        },
        "id": "I4qJfn_EUxYl",
        "outputId": "10bb23c1-78b5-48db-d896-d7c375380a45"
      },
      "execution_count": 66,
      "outputs": [
        {
          "output_type": "execute_result",
          "data": {
            "text/plain": [
              "[<matplotlib.lines.Line2D at 0x7f39b04e9970>]"
            ]
          },
          "metadata": {},
          "execution_count": 66
        },
        {
          "output_type": "display_data",
          "data": {
            "text/plain": [
              "<Figure size 432x288 with 1 Axes>"
            ],
            "image/png": "[encoded data removed]"
          },
          "metadata": {
            "needs_background": "light"
          }
        }
      ]
    },
    {
      "cell_type": "code",
      "source": [
        "# 5) y=sin(x) / 100\n",
        "x = np.arange(0.5, 100, 0.5)\n",
        "def f(x):\n",
        "  return jnp.sin(x * np.pi /180) /100\n",
        "plt.plot(x,f(x))\n"
      ],
      "metadata": {
        "colab": {
          "base_uri": "https://localhost:8080/",
          "height": 282
        },
        "id": "4xiSgDWFUxaq",
        "outputId": "ae2c29a0-1933-4c69-9d02-9aea32d368da"
      },
      "execution_count": 67,
      "outputs": [
        {
          "output_type": "execute_result",
          "data": {
            "text/plain": [
              "[<matplotlib.lines.Line2D at 0x7f39b2d90a00>]"
            ]
          },
          "metadata": {},
          "execution_count": 67
        },
        {
          "output_type": "display_data",
          "data": {
            "text/plain": [
              "<Figure size 432x288 with 1 Axes>"
            ],
            "image/png": "[encoded data removed]"
          },
          "metadata": {
            "needs_background": "light"
          }
        }
      ]
    },
    {
      "cell_type": "code",
      "source": [
        "# 6) y=log(x)\n",
        "x = np.arange(0.5, 100, 0.5)\n",
        "def f(x):\n",
        "  return jnp.log(x)\n",
        "plt.plot(x,f(x))\n"
      ],
      "metadata": {
        "colab": {
          "base_uri": "https://localhost:8080/",
          "height": 282
        },
        "id": "E6-r0ewtUxeS",
        "outputId": "6dd96d8a-2348-4afc-fe6d-b806169f6730"
      },
      "execution_count": 32,
      "outputs": [
        {
          "output_type": "execute_result",
          "data": {
            "text/plain": [
              "[<matplotlib.lines.Line2D at 0x7f5a575714f0>]"
            ]
          },
          "metadata": {},
          "execution_count": 32
        },
        {
          "output_type": "display_data",
          "data": {
            "text/plain": [
              "<Figure size 432x288 with 1 Axes>"
            ],
            "image/png": "[encoded data removed]"
          },
          "metadata": {
            "needs_background": "light"
          }
        }
      ]
    },
    {
      "cell_type": "code",
      "source": [
        "# 7) y=e^x\n",
        "import math\n",
        "x = jnp.arange(0.5, 100, 0.5)\n",
        "def f(x):\n",
        "  return jnp.exp(x)\n",
        "plt.plot(x,f(x))\n"
      ],
      "metadata": {
        "colab": {
          "base_uri": "https://localhost:8080/",
          "height": 293
        },
        "id": "7gb0upnJU8Pe",
        "outputId": "8b7dbaee-bfac-4d3f-d164-d3fd202be111"
      },
      "execution_count": 33,
      "outputs": [
        {
          "output_type": "execute_result",
          "data": {
            "text/plain": [
              "[<matplotlib.lines.Line2D at 0x7f5a57540d30>]"
            ]
          },
          "metadata": {},
          "execution_count": 33
        },
        {
          "output_type": "display_data",
          "data": {
            "text/plain": [
              "<Figure size 432x288 with 1 Axes>"
            ],
            "image/png": "[encoded data removed]"
          },
          "metadata": {
            "needs_background": "light"
          }
        }
      ]
    },
    {
      "cell_type": "code",
      "source": [],
      "metadata": {
        "id": "DmMm2fYJU8Rl"
      },
      "execution_count": 33,
      "outputs": []
    },
    {
      "cell_type": "markdown",
      "source": [
        "## 10 Using numpy generate a matrix of size 20X5 containing random numbers drawn uniformly from the range of 1 to 2. Using Pandas create a dataframe out of this matrix. Name the columns of the dataframe as “a”, “b”, “c”, “d”, “e”. Find the column with the highest standard deviation. Find the row with the lowest mean."
      ],
      "metadata": {
        "id": "-imkqytMVHP2"
      }
    },
    {
      "cell_type": "code",
      "source": [
        "x = np.random.uniform(1,2, size=(20,5))\n",
        "print(x)"
      ],
      "metadata": {
        "colab": {
          "base_uri": "https://localhost:8080/"
        },
        "id": "IcEOjaFTU8Uv",
        "outputId": "550ab38b-a048-4292-bd6f-f801fc335c24"
      },
      "execution_count": 109,
      "outputs": [
        {
          "output_type": "stream",
          "name": "stdout",
          "text": [
            "[[1.93726408 1.06996495 1.7043704  1.36432747 1.21853985]\n",
            " [1.60282083 1.18138684 1.72373145 1.70425187 1.76196642]\n",
            " [1.66501198 1.12581671 1.71204095 1.38898223 1.04394896]\n",
            " [1.17969946 1.36650269 1.64391925 1.90931533 1.29420255]\n",
            " [1.43635609 1.0957237  1.62640261 1.39507245 1.16104361]\n",
            " [1.24147009 1.00665014 1.14955073 1.95923761 1.76933538]\n",
            " [1.69727317 1.82908927 1.43669686 1.42323507 1.4380242 ]\n",
            " [1.86441363 1.73807818 1.76748077 1.69076474 1.16094553]\n",
            " [1.54049034 1.31634839 1.85651531 1.6619643  1.42545538]\n",
            " [1.72139731 1.88941491 1.72182452 1.75397391 1.55112453]\n",
            " [1.38680408 1.95043411 1.45420531 1.35448651 1.74313421]\n",
            " [1.76326812 1.94296354 1.58094123 1.1548879  1.29513514]\n",
            " [1.1825792  1.21699499 1.31053261 1.07621746 1.52281104]\n",
            " [1.92410156 1.75309463 1.2869452  1.59928835 1.67438727]\n",
            " [1.53753076 1.75677878 1.20083414 1.65850116 1.80697601]\n",
            " [1.38402628 1.71768217 1.49102163 1.79775394 1.57937375]\n",
            " [1.61604449 1.54302365 1.53676612 1.24012103 1.87071315]\n",
            " [1.79264449 1.1166439  1.7872704  1.35609245 1.4344275 ]\n",
            " [1.84894189 1.57374416 1.06810432 1.88995089 1.7957718 ]\n",
            " [1.69989708 1.8439377  1.47754961 1.91595932 1.80797103]]\n"
          ]
        }
      ]
    },
    {
      "cell_type": "code",
      "source": [
        "df = pd.DataFrame(x)\n",
        "df.columns = ['a','b','c','d','e']"
      ],
      "metadata": {
        "id": "Jbq5-Su4U8Wz"
      },
      "execution_count": 110,
      "outputs": []
    },
    {
      "cell_type": "code",
      "source": [
        "df"
      ],
      "metadata": {
        "colab": {
          "base_uri": "https://localhost:8080/",
          "height": 677
        },
        "id": "IIww_jTpAtvG",
        "outputId": "05e7e985-65c8-4d34-f07f-a6f5a7a3f11a"
      },
      "execution_count": 111,
      "outputs": [
        {
          "output_type": "execute_result",
          "data": {
            "text/plain": [
              "           a         b         c         d         e\n",
              "0   1.937264  1.069965  1.704370  1.364327  1.218540\n",
              "1   1.602821  1.181387  1.723731  1.704252  1.761966\n",
              "2   1.665012  1.125817  1.712041  1.388982  1.043949\n",
              "3   1.179699  1.366503  1.643919  1.909315  1.294203\n",
              "4   1.436356  1.095724  1.626403  1.395072  1.161044\n",
              "5   1.241470  1.006650  1.149551  1.959238  1.769335\n",
              "6   1.697273  1.829089  1.436697  1.423235  1.438024\n",
              "7   1.864414  1.738078  1.767481  1.690765  1.160946\n",
              "8   1.540490  1.316348  1.856515  1.661964  1.425455\n",
              "9   1.721397  1.889415  1.721825  1.753974  1.551125\n",
              "10  1.386804  1.950434  1.454205  1.354487  1.743134\n",
              "11  1.763268  1.942964  1.580941  1.154888  1.295135\n",
              "12  1.182579  1.216995  1.310533  1.076217  1.522811\n",
              "13  1.924102  1.753095  1.286945  1.599288  1.674387\n",
              "14  1.537531  1.756779  1.200834  1.658501  1.806976\n",
              "15  1.384026  1.717682  1.491022  1.797754  1.579374\n",
              "16  1.616044  1.543024  1.536766  1.240121  1.870713\n",
              "17  1.792644  1.116644  1.787270  1.356092  1.434428\n",
              "18  1.848942  1.573744  1.068104  1.889951  1.795772\n",
              "19  1.699897  1.843938  1.477550  1.915959  1.807971"
            ],
            "text/html": [
              "\n",
              "  <div id=\"df-52f962a1-d185-4a20-905e-683fd65a4633\">\n",
              "    <div class=\"colab-df-container\">\n",
              "      <div>\n",
              "<style scoped>\n",
              "    .dataframe tbody tr th:only-of-type {\n",
              "        vertical-align: middle;\n",
              "    }\n",
              "\n",
              "    .dataframe tbody tr th {\n",
              "        vertical-align: top;\n",
              "    }\n",
              "\n",
              "    .dataframe thead th {\n",
              "        text-align: right;\n",
              "    }\n",
              "</style>\n",
              "<table border=\"1\" class=\"dataframe\">\n",
              "  <thead>\n",
              "    <tr style=\"text-align: right;\">\n",
              "      <th></th>\n",
              "      <th>a</th>\n",
              "      <th>b</th>\n",
              "      <th>c</th>\n",
              "      <th>d</th>\n",
              "      <th>e</th>\n",
              "    </tr>\n",
              "  </thead>\n",
              "  <tbody>\n",
              "    <tr>\n",
              "      <th>0</th>\n",
              "      <td>1.937264</td>\n",
              "      <td>1.069965</td>\n",
              "      <td>1.704370</td>\n",
              "      <td>1.364327</td>\n",
              "      <td>1.218540</td>\n",
              "    </tr>\n",
              "    <tr>\n",
              "      <th>1</th>\n",
              "      <td>1.602821</td>\n",
              "      <td>1.181387</td>\n",
              "      <td>1.723731</td>\n",
              "      <td>1.704252</td>\n",
              "      <td>1.761966</td>\n",
              "    </tr>\n",
              "    <tr>\n",
              "      <th>2</th>\n",
              "      <td>1.665012</td>\n",
              "      <td>1.125817</td>\n",
              "      <td>1.712041</td>\n",
              "      <td>1.388982</td>\n",
              "      <td>1.043949</td>\n",
              "    </tr>\n",
              "    <tr>\n",
              "      <th>3</th>\n",
              "      <td>1.179699</td>\n",
              "      <td>1.366503</td>\n",
              "      <td>1.643919</td>\n",
              "      <td>1.909315</td>\n",
              "      <td>1.294203</td>\n",
              "    </tr>\n",
              "    <tr>\n",
              "      <th>4</th>\n",
              "      <td>1.436356</td>\n",
              "      <td>1.095724</td>\n",
              "      <td>1.626403</td>\n",
              "      <td>1.395072</td>\n",
              "      <td>1.161044</td>\n",
              "    </tr>\n",
              "    <tr>\n",
              "      <th>5</th>\n",
              "      <td>1.241470</td>\n",
              "      <td>1.006650</td>\n",
              "      <td>1.149551</td>\n",
              "      <td>1.959238</td>\n",
              "      <td>1.769335</td>\n",
              "    </tr>\n",
              "    <tr>\n",
              "      <th>6</th>\n",
              "      <td>1.697273</td>\n",
              "      <td>1.829089</td>\n",
              "      <td>1.436697</td>\n",
              "      <td>1.423235</td>\n",
              "      <td>1.438024</td>\n",
              "    </tr>\n",
              "    <tr>\n",
              "      <th>7</th>\n",
              "      <td>1.864414</td>\n",
              "      <td>1.738078</td>\n",
              "      <td>1.767481</td>\n",
              "      <td>1.690765</td>\n",
              "      <td>1.160946</td>\n",
              "    </tr>\n",
              "    <tr>\n",
              "      <th>8</th>\n",
              "      <td>1.540490</td>\n",
              "      <td>1.316348</td>\n",
              "      <td>1.856515</td>\n",
              "      <td>1.661964</td>\n",
              "      <td>1.425455</td>\n",
              "    </tr>\n",
              "    <tr>\n",
              "      <th>9</th>\n",
              "      <td>1.721397</td>\n",
              "      <td>1.889415</td>\n",
              "      <td>1.721825</td>\n",
              "      <td>1.753974</td>\n",
              "      <td>1.551125</td>\n",
              "    </tr>\n",
              "    <tr>\n",
              "      <th>10</th>\n",
              "      <td>1.386804</td>\n",
              "      <td>1.950434</td>\n",
              "      <td>1.454205</td>\n",
              "      <td>1.354487</td>\n",
              "      <td>1.743134</td>\n",
              "    </tr>\n",
              "    <tr>\n",
              "      <th>11</th>\n",
              "      <td>1.763268</td>\n",
              "      <td>1.942964</td>\n",
              "      <td>1.580941</td>\n",
              "      <td>1.154888</td>\n",
              "      <td>1.295135</td>\n",
              "    </tr>\n",
              "    <tr>\n",
              "      <th>12</th>\n",
              "      <td>1.182579</td>\n",
              "      <td>1.216995</td>\n",
              "      <td>1.310533</td>\n",
              "      <td>1.076217</td>\n",
              "      <td>1.522811</td>\n",
              "    </tr>\n",
              "    <tr>\n",
              "      <th>13</th>\n",
              "      <td>1.924102</td>\n",
              "      <td>1.753095</td>\n",
              "      <td>1.286945</td>\n",
              "      <td>1.599288</td>\n",
              "      <td>1.674387</td>\n",
              "    </tr>\n",
              "    <tr>\n",
              "      <th>14</th>\n",
              "      <td>1.537531</td>\n",
              "      <td>1.756779</td>\n",
              "      <td>1.200834</td>\n",
              "      <td>1.658501</td>\n",
              "      <td>1.806976</td>\n",
              "    </tr>\n",
              "    <tr>\n",
              "      <th>15</th>\n",
              "      <td>1.384026</td>\n",
              "      <td>1.717682</td>\n",
              "      <td>1.491022</td>\n",
              "      <td>1.797754</td>\n",
              "      <td>1.579374</td>\n",
              "    </tr>\n",
              "    <tr>\n",
              "      <th>16</th>\n",
              "      <td>1.616044</td>\n",
              "      <td>1.543024</td>\n",
              "      <td>1.536766</td>\n",
              "      <td>1.240121</td>\n",
              "      <td>1.870713</td>\n",
              "    </tr>\n",
              "    <tr>\n",
              "      <th>17</th>\n",
              "      <td>1.792644</td>\n",
              "      <td>1.116644</td>\n",
              "      <td>1.787270</td>\n",
              "      <td>1.356092</td>\n",
              "      <td>1.434428</td>\n",
              "    </tr>\n",
              "    <tr>\n",
              "      <th>18</th>\n",
              "      <td>1.848942</td>\n",
              "      <td>1.573744</td>\n",
              "      <td>1.068104</td>\n",
              "      <td>1.889951</td>\n",
              "      <td>1.795772</td>\n",
              "    </tr>\n",
              "    <tr>\n",
              "      <th>19</th>\n",
              "      <td>1.699897</td>\n",
              "      <td>1.843938</td>\n",
              "      <td>1.477550</td>\n",
              "      <td>1.915959</td>\n",
              "      <td>1.807971</td>\n",
              "    </tr>\n",
              "  </tbody>\n",
              "</table>\n",
              "</div>\n",
              "      <button class=\"colab-df-convert\" onclick=\"convertToInteractive('df-52f962a1-d185-4a20-905e-683fd65a4633')\"\n",
              "              title=\"Convert this dataframe to an interactive table.\"\n",
              "              style=\"display:none;\">\n",
              "        \n",
              "  <svg xmlns=\"http://www.w3.org/2000/svg\" height=\"24px\"viewBox=\"0 0 24 24\"\n",
              "       width=\"24px\">\n",
              "    <path d=\"M0 0h24v24H0V0z\" fill=\"none\"/>\n",
              "    <path d=\"M18.56 5.44l.94 2.06.94-2.06 2.06-.94-2.06-.94-.94-2.06-.94 2.06-2.06.94zm-11 1L8.5 8.5l.94-2.06 2.06-.94-2.06-.94L8.5 2.5l-.94 2.06-2.06.94zm10 10l.94 2.06.94-2.06 2.06-.94-2.06-.94-.94-2.06-.94 2.06-2.06.94z\"/><path d=\"M17.41 7.96l-1.37-1.37c-.4-.4-.92-.59-1.43-.59-.52 0-1.04.2-1.43.59L10.3 9.45l-7.72 7.72c-.78.78-.78 2.05 0 2.83L4 21.41c.39.39.9.59 1.41.59.51 0 1.02-.2 1.41-.59l7.78-7.78 2.81-2.81c.8-.78.8-2.07 0-2.86zM5.41 20L4 18.59l7.72-7.72 1.47 1.35L5.41 20z\"/>\n",
              "  </svg>\n",
              "      </button>\n",
              "      \n",
              "  <style>\n",
              "    .colab-df-container {\n",
              "      display:flex;\n",
              "      flex-wrap:wrap;\n",
              "      gap: 12px;\n",
              "    }\n",
              "\n",
              "    .colab-df-convert {\n",
              "      background-color: #E8F0FE;\n",
              "      border: none;\n",
              "      border-radius: 50%;\n",
              "      cursor: pointer;\n",
              "      display: none;\n",
              "      fill: #1967D2;\n",
              "      height: 32px;\n",
              "      padding: 0 0 0 0;\n",
              "      width: 32px;\n",
              "    }\n",
              "\n",
              "    .colab-df-convert:hover {\n",
              "      background-color: #E2EBFA;\n",
              "      box-shadow: 0px 1px 2px rgba(60, 64, 67, 0.3), 0px 1px 3px 1px rgba(60, 64, 67, 0.15);\n",
              "      fill: #174EA6;\n",
              "    }\n",
              "\n",
              "    [theme=dark] .colab-df-convert {\n",
              "      background-color: #3B4455;\n",
              "      fill: #D2E3FC;\n",
              "    }\n",
              "\n",
              "    [theme=dark] .colab-df-convert:hover {\n",
              "      background-color: #434B5C;\n",
              "      box-shadow: 0px 1px 3px 1px rgba(0, 0, 0, 0.15);\n",
              "      filter: drop-shadow(0px 1px 2px rgba(0, 0, 0, 0.3));\n",
              "      fill: #FFFFFF;\n",
              "    }\n",
              "  </style>\n",
              "\n",
              "      <script>\n",
              "        const buttonEl =\n",
              "          document.querySelector('#df-52f962a1-d185-4a20-905e-683fd65a4633 button.colab-df-convert');\n",
              "        buttonEl.style.display =\n",
              "          google.colab.kernel.accessAllowed ? 'block' : 'none';\n",
              "\n",
              "        async function convertToInteractive(key) {\n",
              "          const element = document.querySelector('#df-52f962a1-d185-4a20-905e-683fd65a4633');\n",
              "          const dataTable =\n",
              "            await google.colab.kernel.invokeFunction('convertToInteractive',\n",
              "                                                     [key], {});\n",
              "          if (!dataTable) return;\n",
              "\n",
              "          const docLinkHtml = 'Like what you see? Visit the ' +\n",
              "            '<a target=\"_blank\" href=https://colab.research.google.com/notebooks/data_table.ipynb>data table notebook</a>'\n",
              "            + ' to learn more about interactive tables.';\n",
              "          element.innerHTML = '';\n",
              "          dataTable['output_type'] = 'display_data';\n",
              "          await google.colab.output.renderOutput(dataTable, element);\n",
              "          const docLink = document.createElement('div');\n",
              "          docLink.innerHTML = docLinkHtml;\n",
              "          element.appendChild(docLink);\n",
              "        }\n",
              "      </script>\n",
              "    </div>\n",
              "  </div>\n",
              "  "
            ]
          },
          "metadata": {},
          "execution_count": 111
        }
      ]
    },
    {
      "cell_type": "code",
      "source": [
        "df.std() "
      ],
      "metadata": {
        "colab": {
          "base_uri": "https://localhost:8080/"
        },
        "id": "BqW1RWBeAtyJ",
        "outputId": "5717158e-73ad-4ea4-d9b2-bb39cc9e18f9"
      },
      "execution_count": 112,
      "outputs": [
        {
          "output_type": "execute_result",
          "data": {
            "text/plain": [
              "a    0.236069\n",
              "b    0.334863\n",
              "c    0.227594\n",
              "d    0.268327\n",
              "e    0.257812\n",
              "dtype: float64"
            ]
          },
          "metadata": {},
          "execution_count": 112
        }
      ]
    },
    {
      "cell_type": "code",
      "source": [
        "df.iloc[:, [df.std().argmax()]]  # column with the highest standard deviation"
      ],
      "metadata": {
        "colab": {
          "base_uri": "https://localhost:8080/",
          "height": 677
        },
        "id": "aS9A2UFkBH2r",
        "outputId": "eeecdc80-067e-49c4-c1dc-5f2967c5f5d8"
      },
      "execution_count": 116,
      "outputs": [
        {
          "output_type": "execute_result",
          "data": {
            "text/plain": [
              "           b\n",
              "0   1.069965\n",
              "1   1.181387\n",
              "2   1.125817\n",
              "3   1.366503\n",
              "4   1.095724\n",
              "5   1.006650\n",
              "6   1.829089\n",
              "7   1.738078\n",
              "8   1.316348\n",
              "9   1.889415\n",
              "10  1.950434\n",
              "11  1.942964\n",
              "12  1.216995\n",
              "13  1.753095\n",
              "14  1.756779\n",
              "15  1.717682\n",
              "16  1.543024\n",
              "17  1.116644\n",
              "18  1.573744\n",
              "19  1.843938"
            ],
            "text/html": [
              "\n",
              "  <div id=\"df-148cc02c-f1ac-4908-831d-7c7717b78edb\">\n",
              "    <div class=\"colab-df-container\">\n",
              "      <div>\n",
              "<style scoped>\n",
              "    .dataframe tbody tr th:only-of-type {\n",
              "        vertical-align: middle;\n",
              "    }\n",
              "\n",
              "    .dataframe tbody tr th {\n",
              "        vertical-align: top;\n",
              "    }\n",
              "\n",
              "    .dataframe thead th {\n",
              "        text-align: right;\n",
              "    }\n",
              "</style>\n",
              "<table border=\"1\" class=\"dataframe\">\n",
              "  <thead>\n",
              "    <tr style=\"text-align: right;\">\n",
              "      <th></th>\n",
              "      <th>b</th>\n",
              "    </tr>\n",
              "  </thead>\n",
              "  <tbody>\n",
              "    <tr>\n",
              "      <th>0</th>\n",
              "      <td>1.069965</td>\n",
              "    </tr>\n",
              "    <tr>\n",
              "      <th>1</th>\n",
              "      <td>1.181387</td>\n",
              "    </tr>\n",
              "    <tr>\n",
              "      <th>2</th>\n",
              "      <td>1.125817</td>\n",
              "    </tr>\n",
              "    <tr>\n",
              "      <th>3</th>\n",
              "      <td>1.366503</td>\n",
              "    </tr>\n",
              "    <tr>\n",
              "      <th>4</th>\n",
              "      <td>1.095724</td>\n",
              "    </tr>\n",
              "    <tr>\n",
              "      <th>5</th>\n",
              "      <td>1.006650</td>\n",
              "    </tr>\n",
              "    <tr>\n",
              "      <th>6</th>\n",
              "      <td>1.829089</td>\n",
              "    </tr>\n",
              "    <tr>\n",
              "      <th>7</th>\n",
              "      <td>1.738078</td>\n",
              "    </tr>\n",
              "    <tr>\n",
              "      <th>8</th>\n",
              "      <td>1.316348</td>\n",
              "    </tr>\n",
              "    <tr>\n",
              "      <th>9</th>\n",
              "      <td>1.889415</td>\n",
              "    </tr>\n",
              "    <tr>\n",
              "      <th>10</th>\n",
              "      <td>1.950434</td>\n",
              "    </tr>\n",
              "    <tr>\n",
              "      <th>11</th>\n",
              "      <td>1.942964</td>\n",
              "    </tr>\n",
              "    <tr>\n",
              "      <th>12</th>\n",
              "      <td>1.216995</td>\n",
              "    </tr>\n",
              "    <tr>\n",
              "      <th>13</th>\n",
              "      <td>1.753095</td>\n",
              "    </tr>\n",
              "    <tr>\n",
              "      <th>14</th>\n",
              "      <td>1.756779</td>\n",
              "    </tr>\n",
              "    <tr>\n",
              "      <th>15</th>\n",
              "      <td>1.717682</td>\n",
              "    </tr>\n",
              "    <tr>\n",
              "      <th>16</th>\n",
              "      <td>1.543024</td>\n",
              "    </tr>\n",
              "    <tr>\n",
              "      <th>17</th>\n",
              "      <td>1.116644</td>\n",
              "    </tr>\n",
              "    <tr>\n",
              "      <th>18</th>\n",
              "      <td>1.573744</td>\n",
              "    </tr>\n",
              "    <tr>\n",
              "      <th>19</th>\n",
              "      <td>1.843938</td>\n",
              "    </tr>\n",
              "  </tbody>\n",
              "</table>\n",
              "</div>\n",
              "      <button class=\"colab-df-convert\" onclick=\"convertToInteractive('df-148cc02c-f1ac-4908-831d-7c7717b78edb')\"\n",
              "              title=\"Convert this dataframe to an interactive table.\"\n",
              "              style=\"display:none;\">\n",
              "        \n",
              "  <svg xmlns=\"http://www.w3.org/2000/svg\" height=\"24px\"viewBox=\"0 0 24 24\"\n",
              "       width=\"24px\">\n",
              "    <path d=\"M0 0h24v24H0V0z\" fill=\"none\"/>\n",
              "    <path d=\"M18.56 5.44l.94 2.06.94-2.06 2.06-.94-2.06-.94-.94-2.06-.94 2.06-2.06.94zm-11 1L8.5 8.5l.94-2.06 2.06-.94-2.06-.94L8.5 2.5l-.94 2.06-2.06.94zm10 10l.94 2.06.94-2.06 2.06-.94-2.06-.94-.94-2.06-.94 2.06-2.06.94z\"/><path d=\"M17.41 7.96l-1.37-1.37c-.4-.4-.92-.59-1.43-.59-.52 0-1.04.2-1.43.59L10.3 9.45l-7.72 7.72c-.78.78-.78 2.05 0 2.83L4 21.41c.39.39.9.59 1.41.59.51 0 1.02-.2 1.41-.59l7.78-7.78 2.81-2.81c.8-.78.8-2.07 0-2.86zM5.41 20L4 18.59l7.72-7.72 1.47 1.35L5.41 20z\"/>\n",
              "  </svg>\n",
              "      </button>\n",
              "      \n",
              "  <style>\n",
              "    .colab-df-container {\n",
              "      display:flex;\n",
              "      flex-wrap:wrap;\n",
              "      gap: 12px;\n",
              "    }\n",
              "\n",
              "    .colab-df-convert {\n",
              "      background-color: #E8F0FE;\n",
              "      border: none;\n",
              "      border-radius: 50%;\n",
              "      cursor: pointer;\n",
              "      display: none;\n",
              "      fill: #1967D2;\n",
              "      height: 32px;\n",
              "      padding: 0 0 0 0;\n",
              "      width: 32px;\n",
              "    }\n",
              "\n",
              "    .colab-df-convert:hover {\n",
              "      background-color: #E2EBFA;\n",
              "      box-shadow: 0px 1px 2px rgba(60, 64, 67, 0.3), 0px 1px 3px 1px rgba(60, 64, 67, 0.15);\n",
              "      fill: #174EA6;\n",
              "    }\n",
              "\n",
              "    [theme=dark] .colab-df-convert {\n",
              "      background-color: #3B4455;\n",
              "      fill: #D2E3FC;\n",
              "    }\n",
              "\n",
              "    [theme=dark] .colab-df-convert:hover {\n",
              "      background-color: #434B5C;\n",
              "      box-shadow: 0px 1px 3px 1px rgba(0, 0, 0, 0.15);\n",
              "      filter: drop-shadow(0px 1px 2px rgba(0, 0, 0, 0.3));\n",
              "      fill: #FFFFFF;\n",
              "    }\n",
              "  </style>\n",
              "\n",
              "      <script>\n",
              "        const buttonEl =\n",
              "          document.querySelector('#df-148cc02c-f1ac-4908-831d-7c7717b78edb button.colab-df-convert');\n",
              "        buttonEl.style.display =\n",
              "          google.colab.kernel.accessAllowed ? 'block' : 'none';\n",
              "\n",
              "        async function convertToInteractive(key) {\n",
              "          const element = document.querySelector('#df-148cc02c-f1ac-4908-831d-7c7717b78edb');\n",
              "          const dataTable =\n",
              "            await google.colab.kernel.invokeFunction('convertToInteractive',\n",
              "                                                     [key], {});\n",
              "          if (!dataTable) return;\n",
              "\n",
              "          const docLinkHtml = 'Like what you see? Visit the ' +\n",
              "            '<a target=\"_blank\" href=https://colab.research.google.com/notebooks/data_table.ipynb>data table notebook</a>'\n",
              "            + ' to learn more about interactive tables.';\n",
              "          element.innerHTML = '';\n",
              "          dataTable['output_type'] = 'display_data';\n",
              "          await google.colab.output.renderOutput(dataTable, element);\n",
              "          const docLink = document.createElement('div');\n",
              "          docLink.innerHTML = docLinkHtml;\n",
              "          element.appendChild(docLink);\n",
              "        }\n",
              "      </script>\n",
              "    </div>\n",
              "  </div>\n",
              "  "
            ]
          },
          "metadata": {},
          "execution_count": 116
        }
      ]
    },
    {
      "cell_type": "code",
      "source": [
        "df.mean(axis=1)"
      ],
      "metadata": {
        "colab": {
          "base_uri": "https://localhost:8080/"
        },
        "id": "BOS_GJXdBH6H",
        "outputId": "f15e89c5-eead-4491-f49b-ea94352b2b54"
      },
      "execution_count": 117,
      "outputs": [
        {
          "output_type": "execute_result",
          "data": {
            "text/plain": [
              "0     1.458893\n",
              "1     1.594831\n",
              "2     1.387160\n",
              "3     1.478728\n",
              "4     1.342920\n",
              "5     1.425249\n",
              "6     1.564864\n",
              "7     1.644337\n",
              "8     1.560155\n",
              "9     1.727547\n",
              "10    1.577813\n",
              "11    1.547439\n",
              "12    1.261827\n",
              "13    1.647563\n",
              "14    1.592124\n",
              "15    1.593972\n",
              "16    1.561334\n",
              "17    1.497416\n",
              "18    1.635303\n",
              "19    1.749063\n",
              "dtype: float64"
            ]
          },
          "metadata": {},
          "execution_count": 117
        }
      ]
    },
    {
      "cell_type": "code",
      "source": [
        "df.mean(axis=1).argmin()"
      ],
      "metadata": {
        "colab": {
          "base_uri": "https://localhost:8080/"
        },
        "id": "Z47cUWTjBH9Q",
        "outputId": "07ed209e-b9f5-4117-d07e-44c6ff735b4a"
      },
      "execution_count": 118,
      "outputs": [
        {
          "output_type": "execute_result",
          "data": {
            "text/plain": [
              "12"
            ]
          },
          "metadata": {},
          "execution_count": 118
        }
      ]
    },
    {
      "cell_type": "code",
      "source": [
        "df[:][df.mean(axis=1).argmin():df.mean(axis=1).argmin()+1] # row with the lowest mean."
      ],
      "metadata": {
        "colab": {
          "base_uri": "https://localhost:8080/",
          "height": 81
        },
        "id": "9QJ5XLNuBIA5",
        "outputId": "872c33ff-c365-4d4b-8c35-df0e5b08fb21"
      },
      "execution_count": 124,
      "outputs": [
        {
          "output_type": "execute_result",
          "data": {
            "text/plain": [
              "           a         b         c         d         e\n",
              "12  1.182579  1.216995  1.310533  1.076217  1.522811"
            ],
            "text/html": [
              "\n",
              "  <div id=\"df-836df8bf-83c8-4766-98cd-c6c79eb91d9a\">\n",
              "    <div class=\"colab-df-container\">\n",
              "      <div>\n",
              "<style scoped>\n",
              "    .dataframe tbody tr th:only-of-type {\n",
              "        vertical-align: middle;\n",
              "    }\n",
              "\n",
              "    .dataframe tbody tr th {\n",
              "        vertical-align: top;\n",
              "    }\n",
              "\n",
              "    .dataframe thead th {\n",
              "        text-align: right;\n",
              "    }\n",
              "</style>\n",
              "<table border=\"1\" class=\"dataframe\">\n",
              "  <thead>\n",
              "    <tr style=\"text-align: right;\">\n",
              "      <th></th>\n",
              "      <th>a</th>\n",
              "      <th>b</th>\n",
              "      <th>c</th>\n",
              "      <th>d</th>\n",
              "      <th>e</th>\n",
              "    </tr>\n",
              "  </thead>\n",
              "  <tbody>\n",
              "    <tr>\n",
              "      <th>12</th>\n",
              "      <td>1.182579</td>\n",
              "      <td>1.216995</td>\n",
              "      <td>1.310533</td>\n",
              "      <td>1.076217</td>\n",
              "      <td>1.522811</td>\n",
              "    </tr>\n",
              "  </tbody>\n",
              "</table>\n",
              "</div>\n",
              "      <button class=\"colab-df-convert\" onclick=\"convertToInteractive('df-836df8bf-83c8-4766-98cd-c6c79eb91d9a')\"\n",
              "              title=\"Convert this dataframe to an interactive table.\"\n",
              "              style=\"display:none;\">\n",
              "        \n",
              "  <svg xmlns=\"http://www.w3.org/2000/svg\" height=\"24px\"viewBox=\"0 0 24 24\"\n",
              "       width=\"24px\">\n",
              "    <path d=\"M0 0h24v24H0V0z\" fill=\"none\"/>\n",
              "    <path d=\"M18.56 5.44l.94 2.06.94-2.06 2.06-.94-2.06-.94-.94-2.06-.94 2.06-2.06.94zm-11 1L8.5 8.5l.94-2.06 2.06-.94-2.06-.94L8.5 2.5l-.94 2.06-2.06.94zm10 10l.94 2.06.94-2.06 2.06-.94-2.06-.94-.94-2.06-.94 2.06-2.06.94z\"/><path d=\"M17.41 7.96l-1.37-1.37c-.4-.4-.92-.59-1.43-.59-.52 0-1.04.2-1.43.59L10.3 9.45l-7.72 7.72c-.78.78-.78 2.05 0 2.83L4 21.41c.39.39.9.59 1.41.59.51 0 1.02-.2 1.41-.59l7.78-7.78 2.81-2.81c.8-.78.8-2.07 0-2.86zM5.41 20L4 18.59l7.72-7.72 1.47 1.35L5.41 20z\"/>\n",
              "  </svg>\n",
              "      </button>\n",
              "      \n",
              "  <style>\n",
              "    .colab-df-container {\n",
              "      display:flex;\n",
              "      flex-wrap:wrap;\n",
              "      gap: 12px;\n",
              "    }\n",
              "\n",
              "    .colab-df-convert {\n",
              "      background-color: #E8F0FE;\n",
              "      border: none;\n",
              "      border-radius: 50%;\n",
              "      cursor: pointer;\n",
              "      display: none;\n",
              "      fill: #1967D2;\n",
              "      height: 32px;\n",
              "      padding: 0 0 0 0;\n",
              "      width: 32px;\n",
              "    }\n",
              "\n",
              "    .colab-df-convert:hover {\n",
              "      background-color: #E2EBFA;\n",
              "      box-shadow: 0px 1px 2px rgba(60, 64, 67, 0.3), 0px 1px 3px 1px rgba(60, 64, 67, 0.15);\n",
              "      fill: #174EA6;\n",
              "    }\n",
              "\n",
              "    [theme=dark] .colab-df-convert {\n",
              "      background-color: #3B4455;\n",
              "      fill: #D2E3FC;\n",
              "    }\n",
              "\n",
              "    [theme=dark] .colab-df-convert:hover {\n",
              "      background-color: #434B5C;\n",
              "      box-shadow: 0px 1px 3px 1px rgba(0, 0, 0, 0.15);\n",
              "      filter: drop-shadow(0px 1px 2px rgba(0, 0, 0, 0.3));\n",
              "      fill: #FFFFFF;\n",
              "    }\n",
              "  </style>\n",
              "\n",
              "      <script>\n",
              "        const buttonEl =\n",
              "          document.querySelector('#df-836df8bf-83c8-4766-98cd-c6c79eb91d9a button.colab-df-convert');\n",
              "        buttonEl.style.display =\n",
              "          google.colab.kernel.accessAllowed ? 'block' : 'none';\n",
              "\n",
              "        async function convertToInteractive(key) {\n",
              "          const element = document.querySelector('#df-836df8bf-83c8-4766-98cd-c6c79eb91d9a');\n",
              "          const dataTable =\n",
              "            await google.colab.kernel.invokeFunction('convertToInteractive',\n",
              "                                                     [key], {});\n",
              "          if (!dataTable) return;\n",
              "\n",
              "          const docLinkHtml = 'Like what you see? Visit the ' +\n",
              "            '<a target=\"_blank\" href=https://colab.research.google.com/notebooks/data_table.ipynb>data table notebook</a>'\n",
              "            + ' to learn more about interactive tables.';\n",
              "          element.innerHTML = '';\n",
              "          dataTable['output_type'] = 'display_data';\n",
              "          await google.colab.output.renderOutput(dataTable, element);\n",
              "          const docLink = document.createElement('div');\n",
              "          docLink.innerHTML = docLinkHtml;\n",
              "          element.appendChild(docLink);\n",
              "        }\n",
              "      </script>\n",
              "    </div>\n",
              "  </div>\n",
              "  "
            ]
          },
          "metadata": {},
          "execution_count": 124
        }
      ]
    },
    {
      "cell_type": "code",
      "source": [],
      "metadata": {
        "id": "Jx1X5AYFCJ69"
      },
      "execution_count": null,
      "outputs": []
    },
    {
      "cell_type": "code",
      "source": [],
      "metadata": {
        "id": "TxxBmn8OCJ9S"
      },
      "execution_count": null,
      "outputs": []
    },
    {
      "cell_type": "code",
      "source": [],
      "metadata": {
        "id": "mVquDceGCKAz"
      },
      "execution_count": null,
      "outputs": []
    },
    {
      "cell_type": "markdown",
      "source": [
        "#### 11) Add a new column to the dataframe called “f” which is the sum of the columns “a”, “b”, “c”, “d”, “e”. Create another column called “g”. The value in the column “g” should be “LT8” if the value in the column “f” is less than 8 and “GT8” otherwise. Find the number of rows in the dataframe where the value in the column “g” is “LT8”. Find the standard deviation of the column “f” for the rows where the value in the column “g” is “LT8” and “GT8” respectively."
      ],
      "metadata": {
        "id": "BiY3EH6zVrHK"
      }
    },
    {
      "cell_type": "code",
      "source": [
        "# Add a new column to the dataframe called “f” which is the sum of the columns\n",
        "df['f'] = df.sum(axis=1) "
      ],
      "metadata": {
        "id": "r83rWk9rTTrR"
      },
      "execution_count": 125,
      "outputs": []
    },
    {
      "cell_type": "code",
      "source": [],
      "metadata": {
        "id": "yvXtUaFDDLYC"
      },
      "execution_count": 134,
      "outputs": []
    },
    {
      "cell_type": "code",
      "source": [
        "# Create another column called “g”. The value in the column “g” should be “LT8” if the value in the column “f” is less than 8 and “GT8” otherwise.\n",
        "\n",
        "df['g'] = ['LT8' if i<8 else 'GT8' for i in df['f']]"
      ],
      "metadata": {
        "id": "3J5pBXTGDLbI"
      },
      "execution_count": 127,
      "outputs": []
    },
    {
      "cell_type": "code",
      "source": [
        "df"
      ],
      "metadata": {
        "colab": {
          "base_uri": "https://localhost:8080/",
          "height": 677
        },
        "id": "sp-_wZyLDLec",
        "outputId": "e82b0eb9-d2fd-4e70-b2e6-558fd39c998b"
      },
      "execution_count": 135,
      "outputs": [
        {
          "output_type": "execute_result",
          "data": {
            "text/plain": [
              "           a         b         c         d         e         f    g\n",
              "0   1.937264  1.069965  1.704370  1.364327  1.218540  7.294467  LT8\n",
              "1   1.602821  1.181387  1.723731  1.704252  1.761966  7.974157  LT8\n",
              "2   1.665012  1.125817  1.712041  1.388982  1.043949  6.935801  LT8\n",
              "3   1.179699  1.366503  1.643919  1.909315  1.294203  7.393639  LT8\n",
              "4   1.436356  1.095724  1.626403  1.395072  1.161044  6.714598  LT8\n",
              "5   1.241470  1.006650  1.149551  1.959238  1.769335  7.126244  LT8\n",
              "6   1.697273  1.829089  1.436697  1.423235  1.438024  7.824319  LT8\n",
              "7   1.864414  1.738078  1.767481  1.690765  1.160946  8.221683  GT8\n",
              "8   1.540490  1.316348  1.856515  1.661964  1.425455  7.800774  LT8\n",
              "9   1.721397  1.889415  1.721825  1.753974  1.551125  8.637735  GT8\n",
              "10  1.386804  1.950434  1.454205  1.354487  1.743134  7.889064  LT8\n",
              "11  1.763268  1.942964  1.580941  1.154888  1.295135  7.737196  LT8\n",
              "12  1.182579  1.216995  1.310533  1.076217  1.522811  6.309135  LT8\n",
              "13  1.924102  1.753095  1.286945  1.599288  1.674387  8.237817  GT8\n",
              "14  1.537531  1.756779  1.200834  1.658501  1.806976  7.960621  LT8\n",
              "15  1.384026  1.717682  1.491022  1.797754  1.579374  7.969858  LT8\n",
              "16  1.616044  1.543024  1.536766  1.240121  1.870713  7.806668  LT8\n",
              "17  1.792644  1.116644  1.787270  1.356092  1.434428  7.487079  LT8\n",
              "18  1.848942  1.573744  1.068104  1.889951  1.795772  8.176513  GT8\n",
              "19  1.699897  1.843938  1.477550  1.915959  1.807971  8.745315  GT8"
            ],
            "text/html": [
              "\n",
              "  <div id=\"df-a35ef4fd-165d-4182-bb91-ac3f9887cec1\">\n",
              "    <div class=\"colab-df-container\">\n",
              "      <div>\n",
              "<style scoped>\n",
              "    .dataframe tbody tr th:only-of-type {\n",
              "        vertical-align: middle;\n",
              "    }\n",
              "\n",
              "    .dataframe tbody tr th {\n",
              "        vertical-align: top;\n",
              "    }\n",
              "\n",
              "    .dataframe thead th {\n",
              "        text-align: right;\n",
              "    }\n",
              "</style>\n",
              "<table border=\"1\" class=\"dataframe\">\n",
              "  <thead>\n",
              "    <tr style=\"text-align: right;\">\n",
              "      <th></th>\n",
              "      <th>a</th>\n",
              "      <th>b</th>\n",
              "      <th>c</th>\n",
              "      <th>d</th>\n",
              "      <th>e</th>\n",
              "      <th>f</th>\n",
              "      <th>g</th>\n",
              "    </tr>\n",
              "  </thead>\n",
              "  <tbody>\n",
              "    <tr>\n",
              "      <th>0</th>\n",
              "      <td>1.937264</td>\n",
              "      <td>1.069965</td>\n",
              "      <td>1.704370</td>\n",
              "      <td>1.364327</td>\n",
              "      <td>1.218540</td>\n",
              "      <td>7.294467</td>\n",
              "      <td>LT8</td>\n",
              "    </tr>\n",
              "    <tr>\n",
              "      <th>1</th>\n",
              "      <td>1.602821</td>\n",
              "      <td>1.181387</td>\n",
              "      <td>1.723731</td>\n",
              "      <td>1.704252</td>\n",
              "      <td>1.761966</td>\n",
              "      <td>7.974157</td>\n",
              "      <td>LT8</td>\n",
              "    </tr>\n",
              "    <tr>\n",
              "      <th>2</th>\n",
              "      <td>1.665012</td>\n",
              "      <td>1.125817</td>\n",
              "      <td>1.712041</td>\n",
              "      <td>1.388982</td>\n",
              "      <td>1.043949</td>\n",
              "      <td>6.935801</td>\n",
              "      <td>LT8</td>\n",
              "    </tr>\n",
              "    <tr>\n",
              "      <th>3</th>\n",
              "      <td>1.179699</td>\n",
              "      <td>1.366503</td>\n",
              "      <td>1.643919</td>\n",
              "      <td>1.909315</td>\n",
              "      <td>1.294203</td>\n",
              "      <td>7.393639</td>\n",
              "      <td>LT8</td>\n",
              "    </tr>\n",
              "    <tr>\n",
              "      <th>4</th>\n",
              "      <td>1.436356</td>\n",
              "      <td>1.095724</td>\n",
              "      <td>1.626403</td>\n",
              "      <td>1.395072</td>\n",
              "      <td>1.161044</td>\n",
              "      <td>6.714598</td>\n",
              "      <td>LT8</td>\n",
              "    </tr>\n",
              "    <tr>\n",
              "      <th>5</th>\n",
              "      <td>1.241470</td>\n",
              "      <td>1.006650</td>\n",
              "      <td>1.149551</td>\n",
              "      <td>1.959238</td>\n",
              "      <td>1.769335</td>\n",
              "      <td>7.126244</td>\n",
              "      <td>LT8</td>\n",
              "    </tr>\n",
              "    <tr>\n",
              "      <th>6</th>\n",
              "      <td>1.697273</td>\n",
              "      <td>1.829089</td>\n",
              "      <td>1.436697</td>\n",
              "      <td>1.423235</td>\n",
              "      <td>1.438024</td>\n",
              "      <td>7.824319</td>\n",
              "      <td>LT8</td>\n",
              "    </tr>\n",
              "    <tr>\n",
              "      <th>7</th>\n",
              "      <td>1.864414</td>\n",
              "      <td>1.738078</td>\n",
              "      <td>1.767481</td>\n",
              "      <td>1.690765</td>\n",
              "      <td>1.160946</td>\n",
              "      <td>8.221683</td>\n",
              "      <td>GT8</td>\n",
              "    </tr>\n",
              "    <tr>\n",
              "      <th>8</th>\n",
              "      <td>1.540490</td>\n",
              "      <td>1.316348</td>\n",
              "      <td>1.856515</td>\n",
              "      <td>1.661964</td>\n",
              "      <td>1.425455</td>\n",
              "      <td>7.800774</td>\n",
              "      <td>LT8</td>\n",
              "    </tr>\n",
              "    <tr>\n",
              "      <th>9</th>\n",
              "      <td>1.721397</td>\n",
              "      <td>1.889415</td>\n",
              "      <td>1.721825</td>\n",
              "      <td>1.753974</td>\n",
              "      <td>1.551125</td>\n",
              "      <td>8.637735</td>\n",
              "      <td>GT8</td>\n",
              "    </tr>\n",
              "    <tr>\n",
              "      <th>10</th>\n",
              "      <td>1.386804</td>\n",
              "      <td>1.950434</td>\n",
              "      <td>1.454205</td>\n",
              "      <td>1.354487</td>\n",
              "      <td>1.743134</td>\n",
              "      <td>7.889064</td>\n",
              "      <td>LT8</td>\n",
              "    </tr>\n",
              "    <tr>\n",
              "      <th>11</th>\n",
              "      <td>1.763268</td>\n",
              "      <td>1.942964</td>\n",
              "      <td>1.580941</td>\n",
              "      <td>1.154888</td>\n",
              "      <td>1.295135</td>\n",
              "      <td>7.737196</td>\n",
              "      <td>LT8</td>\n",
              "    </tr>\n",
              "    <tr>\n",
              "      <th>12</th>\n",
              "      <td>1.182579</td>\n",
              "      <td>1.216995</td>\n",
              "      <td>1.310533</td>\n",
              "      <td>1.076217</td>\n",
              "      <td>1.522811</td>\n",
              "      <td>6.309135</td>\n",
              "      <td>LT8</td>\n",
              "    </tr>\n",
              "    <tr>\n",
              "      <th>13</th>\n",
              "      <td>1.924102</td>\n",
              "      <td>1.753095</td>\n",
              "      <td>1.286945</td>\n",
              "      <td>1.599288</td>\n",
              "      <td>1.674387</td>\n",
              "      <td>8.237817</td>\n",
              "      <td>GT8</td>\n",
              "    </tr>\n",
              "    <tr>\n",
              "      <th>14</th>\n",
              "      <td>1.537531</td>\n",
              "      <td>1.756779</td>\n",
              "      <td>1.200834</td>\n",
              "      <td>1.658501</td>\n",
              "      <td>1.806976</td>\n",
              "      <td>7.960621</td>\n",
              "      <td>LT8</td>\n",
              "    </tr>\n",
              "    <tr>\n",
              "      <th>15</th>\n",
              "      <td>1.384026</td>\n",
              "      <td>1.717682</td>\n",
              "      <td>1.491022</td>\n",
              "      <td>1.797754</td>\n",
              "      <td>1.579374</td>\n",
              "      <td>7.969858</td>\n",
              "      <td>LT8</td>\n",
              "    </tr>\n",
              "    <tr>\n",
              "      <th>16</th>\n",
              "      <td>1.616044</td>\n",
              "      <td>1.543024</td>\n",
              "      <td>1.536766</td>\n",
              "      <td>1.240121</td>\n",
              "      <td>1.870713</td>\n",
              "      <td>7.806668</td>\n",
              "      <td>LT8</td>\n",
              "    </tr>\n",
              "    <tr>\n",
              "      <th>17</th>\n",
              "      <td>1.792644</td>\n",
              "      <td>1.116644</td>\n",
              "      <td>1.787270</td>\n",
              "      <td>1.356092</td>\n",
              "      <td>1.434428</td>\n",
              "      <td>7.487079</td>\n",
              "      <td>LT8</td>\n",
              "    </tr>\n",
              "    <tr>\n",
              "      <th>18</th>\n",
              "      <td>1.848942</td>\n",
              "      <td>1.573744</td>\n",
              "      <td>1.068104</td>\n",
              "      <td>1.889951</td>\n",
              "      <td>1.795772</td>\n",
              "      <td>8.176513</td>\n",
              "      <td>GT8</td>\n",
              "    </tr>\n",
              "    <tr>\n",
              "      <th>19</th>\n",
              "      <td>1.699897</td>\n",
              "      <td>1.843938</td>\n",
              "      <td>1.477550</td>\n",
              "      <td>1.915959</td>\n",
              "      <td>1.807971</td>\n",
              "      <td>8.745315</td>\n",
              "      <td>GT8</td>\n",
              "    </tr>\n",
              "  </tbody>\n",
              "</table>\n",
              "</div>\n",
              "      <button class=\"colab-df-convert\" onclick=\"convertToInteractive('df-a35ef4fd-165d-4182-bb91-ac3f9887cec1')\"\n",
              "              title=\"Convert this dataframe to an interactive table.\"\n",
              "              style=\"display:none;\">\n",
              "        \n",
              "  <svg xmlns=\"http://www.w3.org/2000/svg\" height=\"24px\"viewBox=\"0 0 24 24\"\n",
              "       width=\"24px\">\n",
              "    <path d=\"M0 0h24v24H0V0z\" fill=\"none\"/>\n",
              "    <path d=\"M18.56 5.44l.94 2.06.94-2.06 2.06-.94-2.06-.94-.94-2.06-.94 2.06-2.06.94zm-11 1L8.5 8.5l.94-2.06 2.06-.94-2.06-.94L8.5 2.5l-.94 2.06-2.06.94zm10 10l.94 2.06.94-2.06 2.06-.94-2.06-.94-.94-2.06-.94 2.06-2.06.94z\"/><path d=\"M17.41 7.96l-1.37-1.37c-.4-.4-.92-.59-1.43-.59-.52 0-1.04.2-1.43.59L10.3 9.45l-7.72 7.72c-.78.78-.78 2.05 0 2.83L4 21.41c.39.39.9.59 1.41.59.51 0 1.02-.2 1.41-.59l7.78-7.78 2.81-2.81c.8-.78.8-2.07 0-2.86zM5.41 20L4 18.59l7.72-7.72 1.47 1.35L5.41 20z\"/>\n",
              "  </svg>\n",
              "      </button>\n",
              "      \n",
              "  <style>\n",
              "    .colab-df-container {\n",
              "      display:flex;\n",
              "      flex-wrap:wrap;\n",
              "      gap: 12px;\n",
              "    }\n",
              "\n",
              "    .colab-df-convert {\n",
              "      background-color: #E8F0FE;\n",
              "      border: none;\n",
              "      border-radius: 50%;\n",
              "      cursor: pointer;\n",
              "      display: none;\n",
              "      fill: #1967D2;\n",
              "      height: 32px;\n",
              "      padding: 0 0 0 0;\n",
              "      width: 32px;\n",
              "    }\n",
              "\n",
              "    .colab-df-convert:hover {\n",
              "      background-color: #E2EBFA;\n",
              "      box-shadow: 0px 1px 2px rgba(60, 64, 67, 0.3), 0px 1px 3px 1px rgba(60, 64, 67, 0.15);\n",
              "      fill: #174EA6;\n",
              "    }\n",
              "\n",
              "    [theme=dark] .colab-df-convert {\n",
              "      background-color: #3B4455;\n",
              "      fill: #D2E3FC;\n",
              "    }\n",
              "\n",
              "    [theme=dark] .colab-df-convert:hover {\n",
              "      background-color: #434B5C;\n",
              "      box-shadow: 0px 1px 3px 1px rgba(0, 0, 0, 0.15);\n",
              "      filter: drop-shadow(0px 1px 2px rgba(0, 0, 0, 0.3));\n",
              "      fill: #FFFFFF;\n",
              "    }\n",
              "  </style>\n",
              "\n",
              "      <script>\n",
              "        const buttonEl =\n",
              "          document.querySelector('#df-a35ef4fd-165d-4182-bb91-ac3f9887cec1 button.colab-df-convert');\n",
              "        buttonEl.style.display =\n",
              "          google.colab.kernel.accessAllowed ? 'block' : 'none';\n",
              "\n",
              "        async function convertToInteractive(key) {\n",
              "          const element = document.querySelector('#df-a35ef4fd-165d-4182-bb91-ac3f9887cec1');\n",
              "          const dataTable =\n",
              "            await google.colab.kernel.invokeFunction('convertToInteractive',\n",
              "                                                     [key], {});\n",
              "          if (!dataTable) return;\n",
              "\n",
              "          const docLinkHtml = 'Like what you see? Visit the ' +\n",
              "            '<a target=\"_blank\" href=https://colab.research.google.com/notebooks/data_table.ipynb>data table notebook</a>'\n",
              "            + ' to learn more about interactive tables.';\n",
              "          element.innerHTML = '';\n",
              "          dataTable['output_type'] = 'display_data';\n",
              "          await google.colab.output.renderOutput(dataTable, element);\n",
              "          const docLink = document.createElement('div');\n",
              "          docLink.innerHTML = docLinkHtml;\n",
              "          element.appendChild(docLink);\n",
              "        }\n",
              "      </script>\n",
              "    </div>\n",
              "  </div>\n",
              "  "
            ]
          },
          "metadata": {},
          "execution_count": 135
        }
      ]
    },
    {
      "cell_type": "code",
      "source": [],
      "metadata": {
        "id": "H1GGtXtMDMGh"
      },
      "execution_count": 134,
      "outputs": []
    },
    {
      "cell_type": "code",
      "source": [
        "#  number of rows in the dataframe where the value in the column “g” is “LT8”\n",
        "df[df['g'] == 'LT8'][['g']].shape[0]"
      ],
      "metadata": {
        "colab": {
          "base_uri": "https://localhost:8080/"
        },
        "id": "SciDT1HfEcdW",
        "outputId": "4002883a-0b07-445f-ea8d-62210fa79c98"
      },
      "execution_count": 132,
      "outputs": [
        {
          "output_type": "execute_result",
          "data": {
            "text/plain": [
              "15"
            ]
          },
          "metadata": {},
          "execution_count": 132
        }
      ]
    },
    {
      "cell_type": "code",
      "source": [
        "# standard deviation of the column “f” for the rows where the value in the column “g” is “LT8”\n",
        "\n",
        "df[df['g']=='LT8'][['f']].std()"
      ],
      "metadata": {
        "colab": {
          "base_uri": "https://localhost:8080/"
        },
        "id": "PtQBHW89Ecgi",
        "outputId": "1892dfd1-63c1-43a8-bdfe-01fa7846f36b"
      },
      "execution_count": 133,
      "outputs": [
        {
          "output_type": "execute_result",
          "data": {
            "text/plain": [
              "f    0.513861\n",
              "dtype: float64"
            ]
          },
          "metadata": {},
          "execution_count": 133
        }
      ]
    },
    {
      "cell_type": "code",
      "source": [
        "# standard deviation of the column “f” for the rows where the value in the column “g” is “GT8”\n",
        "\n",
        "df[df['g']=='GT8'][['f']].std() "
      ],
      "metadata": {
        "colab": {
          "base_uri": "https://localhost:8080/"
        },
        "id": "2SZyXAHgEcj3",
        "outputId": "99281fad-d7c6-4344-f7fa-981c6ecc51cc"
      },
      "execution_count": 134,
      "outputs": [
        {
          "output_type": "execute_result",
          "data": {
            "text/plain": [
              "f    0.266334\n",
              "dtype: float64"
            ]
          },
          "metadata": {},
          "execution_count": 134
        }
      ]
    },
    {
      "cell_type": "code",
      "source": [],
      "metadata": {
        "id": "bR6l9rFLEcm_"
      },
      "execution_count": null,
      "outputs": []
    },
    {
      "cell_type": "markdown",
      "source": [
        "##  12 Write a small piece of code to explain broadcasting in numpy."
      ],
      "metadata": {
        "id": "L76ZWAZzTVby"
      }
    },
    {
      "cell_type": "code",
      "source": [
        "a = np.tile(np.array([10,20,30,40]), (3,1))\n",
        "print(a)\n",
        "a = a.T\n",
        "print(a)\n",
        "\n",
        "b = np.array([2,3,4])\n",
        "print(b)\n",
        "\n",
        "print(a + b)"
      ],
      "metadata": {
        "colab": {
          "base_uri": "https://localhost:8080/"
        },
        "id": "NHBs2FXCTUVi",
        "outputId": "0d5dd11e-f2b7-440f-b66c-37c04f6d2d79"
      },
      "execution_count": 106,
      "outputs": [
        {
          "output_type": "stream",
          "name": "stdout",
          "text": [
            "[[10 20 30 40]\n",
            " [10 20 30 40]\n",
            " [10 20 30 40]]\n",
            "[[10 10 10]\n",
            " [20 20 20]\n",
            " [30 30 30]\n",
            " [40 40 40]]\n",
            "[2 3 4]\n",
            "[[12 13 14]\n",
            " [22 23 24]\n",
            " [32 33 34]\n",
            " [42 43 44]]\n"
          ]
        }
      ]
    },
    {
      "cell_type": "code",
      "source": [
        "a = np.array([10,20,30,40])\n",
        "a = a[:, np.newaxis]\n",
        "print('A:-')\n",
        "print(a)\n",
        "\n",
        "b = np.array([2,3,4])\n",
        "print('B:-')\n",
        "print(b)\n",
        "\n",
        "print('A+B :-')\n",
        "print(a+b)"
      ],
      "metadata": {
        "colab": {
          "base_uri": "https://localhost:8080/"
        },
        "id": "ZkTE2JsYTabG",
        "outputId": "f6595b6e-5487-46b5-d237-a1b2dcdbb017"
      },
      "execution_count": 108,
      "outputs": [
        {
          "output_type": "stream",
          "name": "stdout",
          "text": [
            "A:-\n",
            "[[10]\n",
            " [20]\n",
            " [30]\n",
            " [40]]\n",
            "B:-\n",
            "[2 3 4]\n",
            "A+B :-\n",
            "[[12 13 14]\n",
            " [22 23 24]\n",
            " [32 33 34]\n",
            " [42 43 44]]\n"
          ]
        }
      ]
    },
    {
      "cell_type": "markdown",
      "source": [
        "## 13 Write a function to compute the argmin of a numpy array. The function should take a numpy array as input and return the index of the minimum element. You can use the np.argmin function to verify your solution."
      ],
      "metadata": {
        "id": "plRsDmORTbnB"
      }
    },
    {
      "cell_type": "code",
      "source": [
        "def mini(a):\n",
        "  val = a.ravel().tolist().index(min(a.ravel()))\n",
        "  return val"
      ],
      "metadata": {
        "id": "-s3eWqmiTyvg"
      },
      "execution_count": 102,
      "outputs": []
    },
    {
      "cell_type": "code",
      "source": [
        "x = np.array([  \n",
        "                [[9,4,1,7], [8,7,-1,0], [1,2,4,0]], \n",
        "                [[8,7,-1,0], [1,2,4,0], [9,4,1,7]],\n",
        "                [[9,4,1,7], [8,7,1,0], [-1,2,4,0]],\n",
        "              ] )\n",
        "result = mini(x)\n",
        "print(result)"
      ],
      "metadata": {
        "colab": {
          "base_uri": "https://localhost:8080/"
        },
        "id": "vNhC1ZHwTyxm",
        "outputId": "59f3c9be-ec2e-411c-983e-d21f1858c5a2"
      },
      "execution_count": 103,
      "outputs": [
        {
          "output_type": "stream",
          "name": "stdout",
          "text": [
            "6\n"
          ]
        }
      ]
    },
    {
      "cell_type": "code",
      "source": [
        "x.argmin() # to check"
      ],
      "metadata": {
        "colab": {
          "base_uri": "https://localhost:8080/"
        },
        "id": "7i6S-TbPTy1N",
        "outputId": "f8a69e68-5df5-4a04-b25d-38ed69581a49"
      },
      "execution_count": 104,
      "outputs": [
        {
          "output_type": "execute_result",
          "data": {
            "text/plain": [
              "6"
            ]
          },
          "metadata": {},
          "execution_count": 104
        }
      ]
    },
    {
      "cell_type": "code",
      "source": [],
      "metadata": {
        "id": "hOSr-0_hfBMw"
      },
      "execution_count": 135,
      "outputs": []
    },
    {
      "cell_type": "code",
      "source": [],
      "metadata": {
        "id": "1AbuBReMfGQj"
      },
      "execution_count": null,
      "outputs": []
    }
  ]
}